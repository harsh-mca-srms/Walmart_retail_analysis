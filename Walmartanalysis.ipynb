{
 "cells": [
  {
   "cell_type": "code",
   "execution_count": 1,
   "id": "9803eb05-7b34-4b4a-8f72-4859cda4c4a2",
   "metadata": {},
   "outputs": [],
   "source": [
    "#importing the libraries\n",
    "import pandas as pd\n",
    "import numpy as np"
   ]
  },
  {
   "cell_type": "code",
   "execution_count": 2,
   "id": "c12795de-b971-412e-bf71-deed407d08dc",
   "metadata": {},
   "outputs": [],
   "source": [
    "#Loading the dataset and displaying the dataset\n",
    "df=pd.read_csv(\"Walmart_Store_sales.csv\")"
   ]
  },
  {
   "cell_type": "code",
   "execution_count": 3,
   "id": "fd69b580-78ee-4d2e-a518-1cebbac7ba51",
   "metadata": {},
   "outputs": [
    {
     "data": {
      "text/html": [
       "<div>\n",
       "<style scoped>\n",
       "    .dataframe tbody tr th:only-of-type {\n",
       "        vertical-align: middle;\n",
       "    }\n",
       "\n",
       "    .dataframe tbody tr th {\n",
       "        vertical-align: top;\n",
       "    }\n",
       "\n",
       "    .dataframe thead th {\n",
       "        text-align: right;\n",
       "    }\n",
       "</style>\n",
       "<table border=\"1\" class=\"dataframe\">\n",
       "  <thead>\n",
       "    <tr style=\"text-align: right;\">\n",
       "      <th></th>\n",
       "      <th>Store</th>\n",
       "      <th>Date</th>\n",
       "      <th>Weekly_Sales</th>\n",
       "      <th>Holiday_Flag</th>\n",
       "      <th>Temperature</th>\n",
       "      <th>Fuel_Price</th>\n",
       "      <th>CPI</th>\n",
       "      <th>Unemployment</th>\n",
       "    </tr>\n",
       "  </thead>\n",
       "  <tbody>\n",
       "    <tr>\n",
       "      <th>0</th>\n",
       "      <td>1</td>\n",
       "      <td>05-02-2010</td>\n",
       "      <td>1643690.90</td>\n",
       "      <td>0</td>\n",
       "      <td>42.31</td>\n",
       "      <td>2.572</td>\n",
       "      <td>211.096358</td>\n",
       "      <td>8.106</td>\n",
       "    </tr>\n",
       "    <tr>\n",
       "      <th>1</th>\n",
       "      <td>1</td>\n",
       "      <td>12-02-2010</td>\n",
       "      <td>1641957.44</td>\n",
       "      <td>1</td>\n",
       "      <td>38.51</td>\n",
       "      <td>2.548</td>\n",
       "      <td>211.242170</td>\n",
       "      <td>8.106</td>\n",
       "    </tr>\n",
       "    <tr>\n",
       "      <th>2</th>\n",
       "      <td>1</td>\n",
       "      <td>19-02-2010</td>\n",
       "      <td>1611968.17</td>\n",
       "      <td>0</td>\n",
       "      <td>39.93</td>\n",
       "      <td>2.514</td>\n",
       "      <td>211.289143</td>\n",
       "      <td>8.106</td>\n",
       "    </tr>\n",
       "    <tr>\n",
       "      <th>3</th>\n",
       "      <td>1</td>\n",
       "      <td>26-02-2010</td>\n",
       "      <td>1409727.59</td>\n",
       "      <td>0</td>\n",
       "      <td>46.63</td>\n",
       "      <td>2.561</td>\n",
       "      <td>211.319643</td>\n",
       "      <td>8.106</td>\n",
       "    </tr>\n",
       "    <tr>\n",
       "      <th>4</th>\n",
       "      <td>1</td>\n",
       "      <td>05-03-2010</td>\n",
       "      <td>1554806.68</td>\n",
       "      <td>0</td>\n",
       "      <td>46.50</td>\n",
       "      <td>2.625</td>\n",
       "      <td>211.350143</td>\n",
       "      <td>8.106</td>\n",
       "    </tr>\n",
       "    <tr>\n",
       "      <th>...</th>\n",
       "      <td>...</td>\n",
       "      <td>...</td>\n",
       "      <td>...</td>\n",
       "      <td>...</td>\n",
       "      <td>...</td>\n",
       "      <td>...</td>\n",
       "      <td>...</td>\n",
       "      <td>...</td>\n",
       "    </tr>\n",
       "    <tr>\n",
       "      <th>6430</th>\n",
       "      <td>45</td>\n",
       "      <td>28-09-2012</td>\n",
       "      <td>713173.95</td>\n",
       "      <td>0</td>\n",
       "      <td>64.88</td>\n",
       "      <td>3.997</td>\n",
       "      <td>192.013558</td>\n",
       "      <td>8.684</td>\n",
       "    </tr>\n",
       "    <tr>\n",
       "      <th>6431</th>\n",
       "      <td>45</td>\n",
       "      <td>05-10-2012</td>\n",
       "      <td>733455.07</td>\n",
       "      <td>0</td>\n",
       "      <td>64.89</td>\n",
       "      <td>3.985</td>\n",
       "      <td>192.170412</td>\n",
       "      <td>8.667</td>\n",
       "    </tr>\n",
       "    <tr>\n",
       "      <th>6432</th>\n",
       "      <td>45</td>\n",
       "      <td>12-10-2012</td>\n",
       "      <td>734464.36</td>\n",
       "      <td>0</td>\n",
       "      <td>54.47</td>\n",
       "      <td>4.000</td>\n",
       "      <td>192.327265</td>\n",
       "      <td>8.667</td>\n",
       "    </tr>\n",
       "    <tr>\n",
       "      <th>6433</th>\n",
       "      <td>45</td>\n",
       "      <td>19-10-2012</td>\n",
       "      <td>718125.53</td>\n",
       "      <td>0</td>\n",
       "      <td>56.47</td>\n",
       "      <td>3.969</td>\n",
       "      <td>192.330854</td>\n",
       "      <td>8.667</td>\n",
       "    </tr>\n",
       "    <tr>\n",
       "      <th>6434</th>\n",
       "      <td>45</td>\n",
       "      <td>26-10-2012</td>\n",
       "      <td>760281.43</td>\n",
       "      <td>0</td>\n",
       "      <td>58.85</td>\n",
       "      <td>3.882</td>\n",
       "      <td>192.308899</td>\n",
       "      <td>8.667</td>\n",
       "    </tr>\n",
       "  </tbody>\n",
       "</table>\n",
       "<p>6435 rows × 8 columns</p>\n",
       "</div>"
      ],
      "text/plain": [
       "      Store        Date  Weekly_Sales  Holiday_Flag  Temperature  Fuel_Price  \\\n",
       "0         1  05-02-2010    1643690.90             0        42.31       2.572   \n",
       "1         1  12-02-2010    1641957.44             1        38.51       2.548   \n",
       "2         1  19-02-2010    1611968.17             0        39.93       2.514   \n",
       "3         1  26-02-2010    1409727.59             0        46.63       2.561   \n",
       "4         1  05-03-2010    1554806.68             0        46.50       2.625   \n",
       "...     ...         ...           ...           ...          ...         ...   \n",
       "6430     45  28-09-2012     713173.95             0        64.88       3.997   \n",
       "6431     45  05-10-2012     733455.07             0        64.89       3.985   \n",
       "6432     45  12-10-2012     734464.36             0        54.47       4.000   \n",
       "6433     45  19-10-2012     718125.53             0        56.47       3.969   \n",
       "6434     45  26-10-2012     760281.43             0        58.85       3.882   \n",
       "\n",
       "             CPI  Unemployment  \n",
       "0     211.096358         8.106  \n",
       "1     211.242170         8.106  \n",
       "2     211.289143         8.106  \n",
       "3     211.319643         8.106  \n",
       "4     211.350143         8.106  \n",
       "...          ...           ...  \n",
       "6430  192.013558         8.684  \n",
       "6431  192.170412         8.667  \n",
       "6432  192.327265         8.667  \n",
       "6433  192.330854         8.667  \n",
       "6434  192.308899         8.667  \n",
       "\n",
       "[6435 rows x 8 columns]"
      ]
     },
     "execution_count": 3,
     "metadata": {},
     "output_type": "execute_result"
    }
   ],
   "source": [
    "df"
   ]
  },
  {
   "cell_type": "code",
   "execution_count": 4,
   "id": "29927cba-e0ac-4ee1-bfe0-59212970389b",
   "metadata": {},
   "outputs": [
    {
     "data": {
      "text/html": [
       "<div>\n",
       "<style scoped>\n",
       "    .dataframe tbody tr th:only-of-type {\n",
       "        vertical-align: middle;\n",
       "    }\n",
       "\n",
       "    .dataframe tbody tr th {\n",
       "        vertical-align: top;\n",
       "    }\n",
       "\n",
       "    .dataframe thead th {\n",
       "        text-align: right;\n",
       "    }\n",
       "</style>\n",
       "<table border=\"1\" class=\"dataframe\">\n",
       "  <thead>\n",
       "    <tr style=\"text-align: right;\">\n",
       "      <th></th>\n",
       "      <th>Store</th>\n",
       "      <th>Weekly_Sales</th>\n",
       "      <th>Holiday_Flag</th>\n",
       "      <th>Temperature</th>\n",
       "      <th>Fuel_Price</th>\n",
       "      <th>CPI</th>\n",
       "      <th>Unemployment</th>\n",
       "    </tr>\n",
       "  </thead>\n",
       "  <tbody>\n",
       "    <tr>\n",
       "      <th>count</th>\n",
       "      <td>6435.000000</td>\n",
       "      <td>6.435000e+03</td>\n",
       "      <td>6435.000000</td>\n",
       "      <td>6435.000000</td>\n",
       "      <td>6435.000000</td>\n",
       "      <td>6435.000000</td>\n",
       "      <td>6435.000000</td>\n",
       "    </tr>\n",
       "    <tr>\n",
       "      <th>mean</th>\n",
       "      <td>23.000000</td>\n",
       "      <td>1.046965e+06</td>\n",
       "      <td>0.069930</td>\n",
       "      <td>60.663782</td>\n",
       "      <td>3.358607</td>\n",
       "      <td>171.578394</td>\n",
       "      <td>7.999151</td>\n",
       "    </tr>\n",
       "    <tr>\n",
       "      <th>std</th>\n",
       "      <td>12.988182</td>\n",
       "      <td>5.643666e+05</td>\n",
       "      <td>0.255049</td>\n",
       "      <td>18.444933</td>\n",
       "      <td>0.459020</td>\n",
       "      <td>39.356712</td>\n",
       "      <td>1.875885</td>\n",
       "    </tr>\n",
       "    <tr>\n",
       "      <th>min</th>\n",
       "      <td>1.000000</td>\n",
       "      <td>2.099862e+05</td>\n",
       "      <td>0.000000</td>\n",
       "      <td>-2.060000</td>\n",
       "      <td>2.472000</td>\n",
       "      <td>126.064000</td>\n",
       "      <td>3.879000</td>\n",
       "    </tr>\n",
       "    <tr>\n",
       "      <th>25%</th>\n",
       "      <td>12.000000</td>\n",
       "      <td>5.533501e+05</td>\n",
       "      <td>0.000000</td>\n",
       "      <td>47.460000</td>\n",
       "      <td>2.933000</td>\n",
       "      <td>131.735000</td>\n",
       "      <td>6.891000</td>\n",
       "    </tr>\n",
       "    <tr>\n",
       "      <th>50%</th>\n",
       "      <td>23.000000</td>\n",
       "      <td>9.607460e+05</td>\n",
       "      <td>0.000000</td>\n",
       "      <td>62.670000</td>\n",
       "      <td>3.445000</td>\n",
       "      <td>182.616521</td>\n",
       "      <td>7.874000</td>\n",
       "    </tr>\n",
       "    <tr>\n",
       "      <th>75%</th>\n",
       "      <td>34.000000</td>\n",
       "      <td>1.420159e+06</td>\n",
       "      <td>0.000000</td>\n",
       "      <td>74.940000</td>\n",
       "      <td>3.735000</td>\n",
       "      <td>212.743293</td>\n",
       "      <td>8.622000</td>\n",
       "    </tr>\n",
       "    <tr>\n",
       "      <th>max</th>\n",
       "      <td>45.000000</td>\n",
       "      <td>3.818686e+06</td>\n",
       "      <td>1.000000</td>\n",
       "      <td>100.140000</td>\n",
       "      <td>4.468000</td>\n",
       "      <td>227.232807</td>\n",
       "      <td>14.313000</td>\n",
       "    </tr>\n",
       "  </tbody>\n",
       "</table>\n",
       "</div>"
      ],
      "text/plain": [
       "             Store  Weekly_Sales  Holiday_Flag  Temperature   Fuel_Price  \\\n",
       "count  6435.000000  6.435000e+03   6435.000000  6435.000000  6435.000000   \n",
       "mean     23.000000  1.046965e+06      0.069930    60.663782     3.358607   \n",
       "std      12.988182  5.643666e+05      0.255049    18.444933     0.459020   \n",
       "min       1.000000  2.099862e+05      0.000000    -2.060000     2.472000   \n",
       "25%      12.000000  5.533501e+05      0.000000    47.460000     2.933000   \n",
       "50%      23.000000  9.607460e+05      0.000000    62.670000     3.445000   \n",
       "75%      34.000000  1.420159e+06      0.000000    74.940000     3.735000   \n",
       "max      45.000000  3.818686e+06      1.000000   100.140000     4.468000   \n",
       "\n",
       "               CPI  Unemployment  \n",
       "count  6435.000000   6435.000000  \n",
       "mean    171.578394      7.999151  \n",
       "std      39.356712      1.875885  \n",
       "min     126.064000      3.879000  \n",
       "25%     131.735000      6.891000  \n",
       "50%     182.616521      7.874000  \n",
       "75%     212.743293      8.622000  \n",
       "max     227.232807     14.313000  "
      ]
     },
     "execution_count": 4,
     "metadata": {},
     "output_type": "execute_result"
    }
   ],
   "source": [
    "#Gathering more information about the dataset\n",
    "df.describe()"
   ]
  },
  {
   "cell_type": "code",
   "execution_count": 5,
   "id": "a23e3fd8-0c8d-4d3d-acdc-c8d8292af0cd",
   "metadata": {},
   "outputs": [
    {
     "data": {
      "text/plain": [
       "(6435, 8)"
      ]
     },
     "execution_count": 5,
     "metadata": {},
     "output_type": "execute_result"
    }
   ],
   "source": [
    "#shape\n",
    "df.shape"
   ]
  },
  {
   "cell_type": "code",
   "execution_count": 6,
   "id": "bc25ab65-b92a-4737-b88e-3dd6475f46de",
   "metadata": {},
   "outputs": [
    {
     "data": {
      "text/plain": [
       "Store           0\n",
       "Date            0\n",
       "Weekly_Sales    0\n",
       "Holiday_Flag    0\n",
       "Temperature     0\n",
       "Fuel_Price      0\n",
       "CPI             0\n",
       "Unemployment    0\n",
       "dtype: int64"
      ]
     },
     "execution_count": 6,
     "metadata": {},
     "output_type": "execute_result"
    }
   ],
   "source": [
    "#checking the missing values\n",
    "df.isnull().sum()"
   ]
  },
  {
   "cell_type": "code",
   "execution_count": 7,
   "id": "e611251f-5954-464a-a134-b3af3c01c1ba",
   "metadata": {},
   "outputs": [
    {
     "name": "stdout",
     "output_type": "stream",
     "text": [
      "<class 'pandas.core.frame.DataFrame'>\n",
      "RangeIndex: 6435 entries, 0 to 6434\n",
      "Data columns (total 8 columns):\n",
      " #   Column        Non-Null Count  Dtype  \n",
      "---  ------        --------------  -----  \n",
      " 0   Store         6435 non-null   int64  \n",
      " 1   Date          6435 non-null   object \n",
      " 2   Weekly_Sales  6435 non-null   float64\n",
      " 3   Holiday_Flag  6435 non-null   int64  \n",
      " 4   Temperature   6435 non-null   float64\n",
      " 5   Fuel_Price    6435 non-null   float64\n",
      " 6   CPI           6435 non-null   float64\n",
      " 7   Unemployment  6435 non-null   float64\n",
      "dtypes: float64(5), int64(2), object(1)\n",
      "memory usage: 402.3+ KB\n"
     ]
    }
   ],
   "source": [
    "df.info()"
   ]
  },
  {
   "cell_type": "code",
   "execution_count": 8,
   "id": "791c6e8e-f3f2-46a8-916b-fd3cc27cf984",
   "metadata": {},
   "outputs": [],
   "source": [
    "max_sales = df.groupby('Store')['Weekly_Sales'].max()"
   ]
  },
  {
   "cell_type": "code",
   "execution_count": 9,
   "id": "c92cb7a5-148e-4264-9ab5-ca5ea65c1fcc",
   "metadata": {},
   "outputs": [
    {
     "data": {
      "text/plain": [
       "3818686.45"
      ]
     },
     "execution_count": 9,
     "metadata": {},
     "output_type": "execute_result"
    }
   ],
   "source": [
    "#Maximum Sales\n",
    "df[\"Weekly_Sales\"].max()"
   ]
  },
  {
   "cell_type": "code",
   "execution_count": 10,
   "id": "a44adf9a-7b2f-463e-92e2-d420fed32ebf",
   "metadata": {},
   "outputs": [],
   "source": [
    "store_index=df['Weekly_Sales'].idxmax()# idxmax a method in python to get the indexes\n",
    "store_no=df.loc[store_index,'Store']\n",
    " "
   ]
  },
  {
   "cell_type": "code",
   "execution_count": 11,
   "id": "3180d962-0c0c-4831-be83-306e1b6ab2ea",
   "metadata": {},
   "outputs": [
    {
     "name": "stdout",
     "output_type": "stream",
     "text": [
      "14\n"
     ]
    }
   ],
   "source": [
    "#Store Number having maximum sales\n",
    "print(store_no)"
   ]
  },
  {
   "cell_type": "code",
   "execution_count": 12,
   "id": "8ac4a911-de11-4518-a1c9-465d42bbdeac",
   "metadata": {},
   "outputs": [],
   "source": [
    "std_dev_by_store = df.groupby('Store')['Weekly_Sales'].std()\n"
   ]
  },
  {
   "cell_type": "code",
   "execution_count": 13,
   "id": "daf4b33e-75a2-428c-85c2-a6755ff9acc1",
   "metadata": {},
   "outputs": [
    {
     "data": {
      "text/plain": [
       "317569.95"
      ]
     },
     "execution_count": 13,
     "metadata": {},
     "output_type": "execute_result"
    }
   ],
   "source": [
    "#max standard deviation\n",
    "max_std_dev = std_dev_by_store.max()\n",
    "\n",
    "max_std_dev.round(2)"
   ]
  },
  {
   "cell_type": "code",
   "execution_count": 14,
   "id": "76c04efb-ccc3-4c11-9b97-30983f43a649",
   "metadata": {},
   "outputs": [
    {
     "data": {
      "text/plain": [
       "Store\n",
       "1     155980.767761\n",
       "2     237683.694682\n",
       "3      46319.631557\n",
       "4     266201.442297\n",
       "5      37737.965745\n",
       "6     212525.855862\n",
       "7     112585.469220\n",
       "8     106280.829881\n",
       "9      69028.666585\n",
       "10    302262.062504\n",
       "11    165833.887863\n",
       "12    139166.871880\n",
       "13    265506.995776\n",
       "14    317569.949476\n",
       "15    120538.652043\n",
       "16     85769.680133\n",
       "17    112162.936087\n",
       "18    176641.510839\n",
       "19    191722.638730\n",
       "20    275900.562742\n",
       "21    128752.812853\n",
       "22    161251.350631\n",
       "23    249788.038068\n",
       "24    167745.677567\n",
       "25    112976.788600\n",
       "26    110431.288141\n",
       "27    239930.135688\n",
       "28    181758.967539\n",
       "29     99120.136596\n",
       "30     22809.665590\n",
       "31    125855.942933\n",
       "32    138017.252087\n",
       "33     24132.927322\n",
       "34    104630.164676\n",
       "35    211243.457791\n",
       "36     60725.173579\n",
       "37     21837.461190\n",
       "38     42768.169450\n",
       "39    217466.454833\n",
       "40    119002.112858\n",
       "41    187907.162766\n",
       "42     50262.925530\n",
       "43     40598.413260\n",
       "44     24762.832015\n",
       "45    130168.526635\n",
       "Name: Weekly_Sales, dtype: float64"
      ]
     },
     "execution_count": 14,
     "metadata": {},
     "output_type": "execute_result"
    }
   ],
   "source": [
    "std_dev_by_store    #store no. 20 is having maximum standard deviation"
   ]
  },
  {
   "cell_type": "code",
   "execution_count": 15,
   "id": "5cfc5cbb-eedc-4d64-acb4-31faae1a63fa",
   "metadata": {},
   "outputs": [
    {
     "data": {
      "text/plain": [
       "1046964.88"
      ]
     },
     "execution_count": 15,
     "metadata": {},
     "output_type": "execute_result"
    }
   ],
   "source": [
    "sales_mean=df['Weekly_Sales'].mean()\n",
    "sales_mean.round(2)"
   ]
  },
  {
   "cell_type": "code",
   "execution_count": 16,
   "id": "b8111735-ea23-4450-abf4-d1472dafbcc0",
   "metadata": {},
   "outputs": [
    {
     "data": {
      "text/plain": [
       "564366.62"
      ]
     },
     "execution_count": 16,
     "metadata": {},
     "output_type": "execute_result"
    }
   ],
   "source": [
    "sales_std=df['Weekly_Sales'].std()\n",
    "sales_std.round(2)"
   ]
  },
  {
   "cell_type": "code",
   "execution_count": 17,
   "id": "6399c8d5-5ca9-43f4-80a0-fb31902120c7",
   "metadata": {},
   "outputs": [
    {
     "data": {
      "text/plain": [
       "1.86"
      ]
     },
     "execution_count": 17,
     "metadata": {},
     "output_type": "execute_result"
    }
   ],
   "source": [
    "#coefficiant if vaeriation\n",
    "coff_var=sales_mean/sales_std\n",
    "coff_var.round(2)\n",
    "\n",
    "##Moderate level of variablity is seen"
   ]
  },
  {
   "cell_type": "code",
   "execution_count": 18,
   "id": "b53008d9-e100-4b45-82b1-ceb3d61404f8",
   "metadata": {},
   "outputs": [],
   "source": [
    "q3_2012_data=df[(df['Date']>='1-07-2012')&(df['Date']<='31-09-2012')]\n"
   ]
  },
  {
   "cell_type": "code",
   "execution_count": 19,
   "id": "b81c8e18-8160-4178-a8da-2fe244ef4104",
   "metadata": {},
   "outputs": [],
   "source": [
    "\n",
    "q3_2012_sales = q3_2012_data.groupby('Store')['Weekly_Sales'].sum()"
   ]
  },
  {
   "cell_type": "code",
   "execution_count": 20,
   "id": "d6360356-48d2-4ef6-a179-d8a50f0b1d78",
   "metadata": {},
   "outputs": [
    {
     "data": {
      "text/html": [
       "<div>\n",
       "<style scoped>\n",
       "    .dataframe tbody tr th:only-of-type {\n",
       "        vertical-align: middle;\n",
       "    }\n",
       "\n",
       "    .dataframe tbody tr th {\n",
       "        vertical-align: top;\n",
       "    }\n",
       "\n",
       "    .dataframe thead th {\n",
       "        text-align: right;\n",
       "    }\n",
       "</style>\n",
       "<table border=\"1\" class=\"dataframe\">\n",
       "  <thead>\n",
       "    <tr style=\"text-align: right;\">\n",
       "      <th></th>\n",
       "      <th>Weekly_Sales</th>\n",
       "    </tr>\n",
       "    <tr>\n",
       "      <th>Store</th>\n",
       "      <th></th>\n",
       "    </tr>\n",
       "  </thead>\n",
       "  <tbody>\n",
       "    <tr>\n",
       "      <th>1</th>\n",
       "      <td>1.535298e+08</td>\n",
       "    </tr>\n",
       "    <tr>\n",
       "      <th>2</th>\n",
       "      <td>1.921572e+08</td>\n",
       "    </tr>\n",
       "    <tr>\n",
       "      <th>3</th>\n",
       "      <td>3.974450e+07</td>\n",
       "    </tr>\n",
       "    <tr>\n",
       "      <th>4</th>\n",
       "      <td>2.102617e+08</td>\n",
       "    </tr>\n",
       "    <tr>\n",
       "      <th>5</th>\n",
       "      <td>3.137791e+07</td>\n",
       "    </tr>\n",
       "  </tbody>\n",
       "</table>\n",
       "</div>"
      ],
      "text/plain": [
       "       Weekly_Sales\n",
       "Store              \n",
       "1      1.535298e+08\n",
       "2      1.921572e+08\n",
       "3      3.974450e+07\n",
       "4      2.102617e+08\n",
       "5      3.137791e+07"
      ]
     },
     "execution_count": 20,
     "metadata": {},
     "output_type": "execute_result"
    }
   ],
   "source": [
    "pd.DataFrame(q3_2012_sales).head()\n"
   ]
  },
  {
   "cell_type": "code",
   "execution_count": 21,
   "id": "8244ced2-117e-4b92-a1fe-b5e58ac7da93",
   "metadata": {},
   "outputs": [],
   "source": [
    "q2_2012_sales = df[(df['Date'] >= '01-04-2012') & (df['Date'] <= '30-06-2012')].groupby('Store')['Weekly_Sales'].sum()\n"
   ]
  },
  {
   "cell_type": "code",
   "execution_count": 22,
   "id": "945617fb-fb3e-40b5-b16f-4956bd8b1e32",
   "metadata": {},
   "outputs": [
    {
     "data": {
      "text/html": [
       "<div>\n",
       "<style scoped>\n",
       "    .dataframe tbody tr th:only-of-type {\n",
       "        vertical-align: middle;\n",
       "    }\n",
       "\n",
       "    .dataframe tbody tr th {\n",
       "        vertical-align: top;\n",
       "    }\n",
       "\n",
       "    .dataframe thead th {\n",
       "        text-align: right;\n",
       "    }\n",
       "</style>\n",
       "<table border=\"1\" class=\"dataframe\">\n",
       "  <thead>\n",
       "    <tr style=\"text-align: right;\">\n",
       "      <th></th>\n",
       "      <th>Weekly_Sales</th>\n",
       "    </tr>\n",
       "    <tr>\n",
       "      <th>Store</th>\n",
       "      <th></th>\n",
       "    </tr>\n",
       "  </thead>\n",
       "  <tbody>\n",
       "    <tr>\n",
       "      <th>1</th>\n",
       "      <td>2.136943e+08</td>\n",
       "    </tr>\n",
       "    <tr>\n",
       "      <th>2</th>\n",
       "      <td>2.645559e+08</td>\n",
       "    </tr>\n",
       "    <tr>\n",
       "      <th>3</th>\n",
       "      <td>5.529368e+07</td>\n",
       "    </tr>\n",
       "    <tr>\n",
       "      <th>4</th>\n",
       "      <td>2.880344e+08</td>\n",
       "    </tr>\n",
       "    <tr>\n",
       "      <th>5</th>\n",
       "      <td>4.360768e+07</td>\n",
       "    </tr>\n",
       "  </tbody>\n",
       "</table>\n",
       "</div>"
      ],
      "text/plain": [
       "       Weekly_Sales\n",
       "Store              \n",
       "1      2.136943e+08\n",
       "2      2.645559e+08\n",
       "3      5.529368e+07\n",
       "4      2.880344e+08\n",
       "5      4.360768e+07"
      ]
     },
     "execution_count": 22,
     "metadata": {},
     "output_type": "execute_result"
    }
   ],
   "source": [
    "pd.DataFrame(q2_2012_sales).head()"
   ]
  },
  {
   "cell_type": "code",
   "execution_count": 23,
   "id": "4319cbd6-cdb2-4dd6-af00-3062b4f8fcd7",
   "metadata": {},
   "outputs": [
    {
     "data": {
      "text/html": [
       "<div>\n",
       "<style scoped>\n",
       "    .dataframe tbody tr th:only-of-type {\n",
       "        vertical-align: middle;\n",
       "    }\n",
       "\n",
       "    .dataframe tbody tr th {\n",
       "        vertical-align: top;\n",
       "    }\n",
       "\n",
       "    .dataframe thead th {\n",
       "        text-align: right;\n",
       "    }\n",
       "</style>\n",
       "<table border=\"1\" class=\"dataframe\">\n",
       "  <thead>\n",
       "    <tr style=\"text-align: right;\">\n",
       "      <th></th>\n",
       "      <th>Weekly_Sales</th>\n",
       "    </tr>\n",
       "    <tr>\n",
       "      <th>Store</th>\n",
       "      <th></th>\n",
       "    </tr>\n",
       "  </thead>\n",
       "  <tbody>\n",
       "    <tr>\n",
       "      <th>1</th>\n",
       "      <td>-28.154468</td>\n",
       "    </tr>\n",
       "    <tr>\n",
       "      <th>2</th>\n",
       "      <td>-27.366120</td>\n",
       "    </tr>\n",
       "    <tr>\n",
       "      <th>3</th>\n",
       "      <td>-28.121068</td>\n",
       "    </tr>\n",
       "    <tr>\n",
       "      <th>4</th>\n",
       "      <td>-27.001182</td>\n",
       "    </tr>\n",
       "    <tr>\n",
       "      <th>5</th>\n",
       "      <td>-28.044987</td>\n",
       "    </tr>\n",
       "  </tbody>\n",
       "</table>\n",
       "</div>"
      ],
      "text/plain": [
       "       Weekly_Sales\n",
       "Store              \n",
       "1        -28.154468\n",
       "2        -27.366120\n",
       "3        -28.121068\n",
       "4        -27.001182\n",
       "5        -28.044987"
      ]
     },
     "execution_count": 23,
     "metadata": {},
     "output_type": "execute_result"
    }
   ],
   "source": [
    "quarterly_growth_rate = ((q3_2012_sales - q2_2012_sales) / q2_2012_sales) * 100\n",
    "pd.DataFrame(quarterly_growth_rate).head()"
   ]
  },
  {
   "cell_type": "code",
   "execution_count": 24,
   "id": "2e30efa6-ea33-46b9-99bb-65f0beba145e",
   "metadata": {},
   "outputs": [],
   "source": [
    "only_positive_growthrate=quarterly_growth_rate[quarterly_growth_rate>0]"
   ]
  },
  {
   "cell_type": "code",
   "execution_count": 25,
   "id": "853ca32a-34d6-4ceb-a6d7-2404eafff228",
   "metadata": {},
   "outputs": [
    {
     "data": {
      "text/html": [
       "<div>\n",
       "<style scoped>\n",
       "    .dataframe tbody tr th:only-of-type {\n",
       "        vertical-align: middle;\n",
       "    }\n",
       "\n",
       "    .dataframe tbody tr th {\n",
       "        vertical-align: top;\n",
       "    }\n",
       "\n",
       "    .dataframe thead th {\n",
       "        text-align: right;\n",
       "    }\n",
       "</style>\n",
       "<table border=\"1\" class=\"dataframe\">\n",
       "  <thead>\n",
       "    <tr style=\"text-align: right;\">\n",
       "      <th></th>\n",
       "      <th>Weekly_Sales</th>\n",
       "    </tr>\n",
       "    <tr>\n",
       "      <th>Store</th>\n",
       "      <th></th>\n",
       "    </tr>\n",
       "  </thead>\n",
       "  <tbody>\n",
       "  </tbody>\n",
       "</table>\n",
       "</div>"
      ],
      "text/plain": [
       "Empty DataFrame\n",
       "Columns: [Weekly_Sales]\n",
       "Index: []"
      ]
     },
     "execution_count": 25,
     "metadata": {},
     "output_type": "execute_result"
    }
   ],
   "source": [
    "pd.DataFrame(only_positive_growthrate)  #Hence no growth is found in the weekly sales"
   ]
  },
  {
   "cell_type": "code",
   "execution_count": 26,
   "id": "319fab88-358c-414d-8af0-ee13204df2f5",
   "metadata": {},
   "outputs": [
    {
     "data": {
      "text/plain": [
       "0    0\n",
       "Name: Holiday_Flag, dtype: int64"
      ]
     },
     "execution_count": 26,
     "metadata": {},
     "output_type": "execute_result"
    }
   ],
   "source": [
    "df['Holiday_Flag'].mode()"
   ]
  },
  {
   "cell_type": "code",
   "execution_count": 27,
   "id": "c2557ec9-b034-48e8-9d35-2aaa79789f4c",
   "metadata": {},
   "outputs": [],
   "source": [
    "SuperBowl=['12-02-2010', '11-02-2011', '10-02-2012', '08-02-2013']\n",
    "LabourDay=['10-03-2010', '09-09-2011', '07-09-2012', '06-09-2013']\n",
    "Thanksgiving=['26-11-2010', '25-11-2011', '23-11-2012', '29-11-2013']\n",
    "Christmas=['31-12-2010', '30-12-2011', '28-12-2012', '27-12-2013']"
   ]
  },
  {
   "cell_type": "code",
   "execution_count": 28,
   "id": "99f3c748-a80c-4cb1-bfce-3f4b463779a8",
   "metadata": {},
   "outputs": [],
   "source": [
    "Super_Bowl_sales = df.loc[df.Date.isin(SuperBowl)]['Weekly_Sales'].mean().round(2)\n",
    "Labour_Day_sales = df.loc[df.Date.isin(LabourDay)]['Weekly_Sales'].mean().round(2)\n",
    "Thanksgiving_sales = df.loc[df.Date.isin(Thanksgiving)]['Weekly_Sales'].mean().round(2)\n",
    "Christmas_sales = df.loc[df.Date.isin(Christmas)]['Weekly_Sales'].mean().round(2)"
   ]
  },
  {
   "cell_type": "code",
   "execution_count": 29,
   "id": "2bc293f5-1919-46a6-804d-900bdedd947a",
   "metadata": {},
   "outputs": [
    {
     "data": {
      "text/plain": [
       "(1079127.99, 1056592.08, 1471273.43, 960833.11)"
      ]
     },
     "execution_count": 29,
     "metadata": {},
     "output_type": "execute_result"
    }
   ],
   "source": [
    "Super_Bowl_sales, Labour_Day_sales, Thanksgiving_sales, Christmas_sales"
   ]
  },
  {
   "cell_type": "code",
   "execution_count": 30,
   "id": "26f7671b-3948-4d11-8ffc-0bcd0d61ac39",
   "metadata": {},
   "outputs": [
    {
     "data": {
      "text/plain": [
       "1041256.38"
      ]
     },
     "execution_count": 30,
     "metadata": {},
     "output_type": "execute_result"
    }
   ],
   "source": [
    "non_holidaysales=df[(df['Holiday_Flag']==0)]['Weekly_Sales'].mean().round(2)\n",
    "non_holidaysales"
   ]
  },
  {
   "cell_type": "code",
   "execution_count": 31,
   "id": "bf3e7fce-219d-438a-a11f-3d2e7d3f5968",
   "metadata": {},
   "outputs": [
    {
     "data": {
      "text/html": [
       "<div>\n",
       "<style scoped>\n",
       "    .dataframe tbody tr th:only-of-type {\n",
       "        vertical-align: middle;\n",
       "    }\n",
       "\n",
       "    .dataframe tbody tr th {\n",
       "        vertical-align: top;\n",
       "    }\n",
       "\n",
       "    .dataframe thead th {\n",
       "        text-align: right;\n",
       "    }\n",
       "</style>\n",
       "<table border=\"1\" class=\"dataframe\">\n",
       "  <thead>\n",
       "    <tr style=\"text-align: right;\">\n",
       "      <th></th>\n",
       "      <th>Super Bowl Sales</th>\n",
       "      <th>Labour Day Sales</th>\n",
       "      <th>Thanks giving Sales</th>\n",
       "      <th>Christmas Sales</th>\n",
       "      <th>Non Holiday Sales</th>\n",
       "    </tr>\n",
       "  </thead>\n",
       "  <tbody>\n",
       "    <tr>\n",
       "      <th>0</th>\n",
       "      <td>1079127.99</td>\n",
       "      <td>1056592.08</td>\n",
       "      <td>1471273.43</td>\n",
       "      <td>960833.11</td>\n",
       "      <td>1041256.38</td>\n",
       "    </tr>\n",
       "  </tbody>\n",
       "</table>\n",
       "</div>"
      ],
      "text/plain": [
       "   Super Bowl Sales  Labour Day Sales  Thanks giving Sales  Christmas Sales  \\\n",
       "0        1079127.99        1056592.08           1471273.43        960833.11   \n",
       "\n",
       "   Non Holiday Sales  \n",
       "0         1041256.38  "
      ]
     },
     "execution_count": 31,
     "metadata": {},
     "output_type": "execute_result"
    }
   ],
   "source": [
    "pd.DataFrame([{'Super Bowl Sales':Super_Bowl_sales,\n",
    "              'Labour Day Sales':Labour_Day_sales,\n",
    "              'Thanks giving Sales':Thanksgiving_sales,\n",
    "              'Christmas Sales':Christmas_sales,\n",
    "              'Non Holiday Sales':non_holidaysales}])\n",
    "#Thanksgiving is the day having the highest sales "
   ]
  },
  {
   "cell_type": "code",
   "execution_count": 32,
   "id": "8106f175-f03a-4473-9e05-fa85d35223b8",
   "metadata": {},
   "outputs": [
    {
     "name": "stderr",
     "output_type": "stream",
     "text": [
      "/tmp/ipykernel_212/3013172752.py:1: UserWarning: Parsing dates in DD/MM/YYYY format when dayfirst=False (the default) was specified. This may lead to inconsistently parsed dates! Specify a format to ensure consistent parsing.\n",
      "  df['Day'] = pd.DatetimeIndex(df['Date']).day\n",
      "/tmp/ipykernel_212/3013172752.py:2: UserWarning: Parsing dates in DD/MM/YYYY format when dayfirst=False (the default) was specified. This may lead to inconsistently parsed dates! Specify a format to ensure consistent parsing.\n",
      "  df['Month'] = pd.DatetimeIndex(df['Date']).month\n",
      "/tmp/ipykernel_212/3013172752.py:3: UserWarning: Parsing dates in DD/MM/YYYY format when dayfirst=False (the default) was specified. This may lead to inconsistently parsed dates! Specify a format to ensure consistent parsing.\n",
      "  df['Year'] = pd.DatetimeIndex(df['Date']).year\n"
     ]
    }
   ],
   "source": [
    "df['Day'] = pd.DatetimeIndex(df['Date']).day\n",
    "df['Month'] = pd.DatetimeIndex(df['Date']).month\n",
    "df['Year'] = pd.DatetimeIndex(df['Date']).year"
   ]
  },
  {
   "cell_type": "code",
   "execution_count": 33,
   "id": "ef954cc1-5189-4a65-bfb0-3d681ad418d7",
   "metadata": {},
   "outputs": [
    {
     "data": {
      "text/html": [
       "<div>\n",
       "<style scoped>\n",
       "    .dataframe tbody tr th:only-of-type {\n",
       "        vertical-align: middle;\n",
       "    }\n",
       "\n",
       "    .dataframe tbody tr th {\n",
       "        vertical-align: top;\n",
       "    }\n",
       "\n",
       "    .dataframe thead th {\n",
       "        text-align: right;\n",
       "    }\n",
       "</style>\n",
       "<table border=\"1\" class=\"dataframe\">\n",
       "  <thead>\n",
       "    <tr style=\"text-align: right;\">\n",
       "      <th></th>\n",
       "      <th>Store</th>\n",
       "      <th>Date</th>\n",
       "      <th>Weekly_Sales</th>\n",
       "      <th>Holiday_Flag</th>\n",
       "      <th>Temperature</th>\n",
       "      <th>Fuel_Price</th>\n",
       "      <th>CPI</th>\n",
       "      <th>Unemployment</th>\n",
       "      <th>Day</th>\n",
       "      <th>Month</th>\n",
       "      <th>Year</th>\n",
       "    </tr>\n",
       "  </thead>\n",
       "  <tbody>\n",
       "    <tr>\n",
       "      <th>0</th>\n",
       "      <td>1</td>\n",
       "      <td>05-02-2010</td>\n",
       "      <td>1643690.90</td>\n",
       "      <td>0</td>\n",
       "      <td>42.31</td>\n",
       "      <td>2.572</td>\n",
       "      <td>211.096358</td>\n",
       "      <td>8.106</td>\n",
       "      <td>2</td>\n",
       "      <td>5</td>\n",
       "      <td>2010</td>\n",
       "    </tr>\n",
       "    <tr>\n",
       "      <th>1</th>\n",
       "      <td>1</td>\n",
       "      <td>12-02-2010</td>\n",
       "      <td>1641957.44</td>\n",
       "      <td>1</td>\n",
       "      <td>38.51</td>\n",
       "      <td>2.548</td>\n",
       "      <td>211.242170</td>\n",
       "      <td>8.106</td>\n",
       "      <td>2</td>\n",
       "      <td>12</td>\n",
       "      <td>2010</td>\n",
       "    </tr>\n",
       "    <tr>\n",
       "      <th>2</th>\n",
       "      <td>1</td>\n",
       "      <td>19-02-2010</td>\n",
       "      <td>1611968.17</td>\n",
       "      <td>0</td>\n",
       "      <td>39.93</td>\n",
       "      <td>2.514</td>\n",
       "      <td>211.289143</td>\n",
       "      <td>8.106</td>\n",
       "      <td>19</td>\n",
       "      <td>2</td>\n",
       "      <td>2010</td>\n",
       "    </tr>\n",
       "    <tr>\n",
       "      <th>3</th>\n",
       "      <td>1</td>\n",
       "      <td>26-02-2010</td>\n",
       "      <td>1409727.59</td>\n",
       "      <td>0</td>\n",
       "      <td>46.63</td>\n",
       "      <td>2.561</td>\n",
       "      <td>211.319643</td>\n",
       "      <td>8.106</td>\n",
       "      <td>26</td>\n",
       "      <td>2</td>\n",
       "      <td>2010</td>\n",
       "    </tr>\n",
       "    <tr>\n",
       "      <th>4</th>\n",
       "      <td>1</td>\n",
       "      <td>05-03-2010</td>\n",
       "      <td>1554806.68</td>\n",
       "      <td>0</td>\n",
       "      <td>46.50</td>\n",
       "      <td>2.625</td>\n",
       "      <td>211.350143</td>\n",
       "      <td>8.106</td>\n",
       "      <td>3</td>\n",
       "      <td>5</td>\n",
       "      <td>2010</td>\n",
       "    </tr>\n",
       "  </tbody>\n",
       "</table>\n",
       "</div>"
      ],
      "text/plain": [
       "   Store        Date  Weekly_Sales  Holiday_Flag  Temperature  Fuel_Price  \\\n",
       "0      1  05-02-2010    1643690.90             0        42.31       2.572   \n",
       "1      1  12-02-2010    1641957.44             1        38.51       2.548   \n",
       "2      1  19-02-2010    1611968.17             0        39.93       2.514   \n",
       "3      1  26-02-2010    1409727.59             0        46.63       2.561   \n",
       "4      1  05-03-2010    1554806.68             0        46.50       2.625   \n",
       "\n",
       "          CPI  Unemployment  Day  Month  Year  \n",
       "0  211.096358         8.106    2      5  2010  \n",
       "1  211.242170         8.106    2     12  2010  \n",
       "2  211.289143         8.106   19      2  2010  \n",
       "3  211.319643         8.106   26      2  2010  \n",
       "4  211.350143         8.106    3      5  2010  "
      ]
     },
     "execution_count": 33,
     "metadata": {},
     "output_type": "execute_result"
    }
   ],
   "source": [
    "df.head()"
   ]
  },
  {
   "cell_type": "code",
   "execution_count": 34,
   "id": "0e78692d-6a0c-4adc-9114-c21606d9fbf3",
   "metadata": {},
   "outputs": [],
   "source": [
    "\n",
    "sales_2010 = df[df['Year'] == 2010]['Weekly_Sales'].sum().round(2)#Sales in 2010\n",
    "sales_2011=df[df['Year'] == 2011]['Weekly_Sales'].sum().round(2)#Sales in 2011\n",
    "sales_2012=df[df['Year'] == 2012]['Weekly_Sales'].sum().round(2)#Sales in 2012"
   ]
  },
  {
   "cell_type": "code",
   "execution_count": 35,
   "id": "11373489-92ad-4a44-a04a-c9db1e5f55ff",
   "metadata": {},
   "outputs": [
    {
     "data": {
      "text/html": [
       "<div>\n",
       "<style scoped>\n",
       "    .dataframe tbody tr th:only-of-type {\n",
       "        vertical-align: middle;\n",
       "    }\n",
       "\n",
       "    .dataframe tbody tr th {\n",
       "        vertical-align: top;\n",
       "    }\n",
       "\n",
       "    .dataframe thead th {\n",
       "        text-align: right;\n",
       "    }\n",
       "</style>\n",
       "<table border=\"1\" class=\"dataframe\">\n",
       "  <thead>\n",
       "    <tr style=\"text-align: right;\">\n",
       "      <th></th>\n",
       "      <th>sales 2010</th>\n",
       "      <th>sales2011</th>\n",
       "      <th>sales 2011</th>\n",
       "    </tr>\n",
       "  </thead>\n",
       "  <tbody>\n",
       "    <tr>\n",
       "      <th>0</th>\n",
       "      <td>2.288886e+09</td>\n",
       "      <td>2.448200e+09</td>\n",
       "      <td>2.000133e+09</td>\n",
       "    </tr>\n",
       "  </tbody>\n",
       "</table>\n",
       "</div>"
      ],
      "text/plain": [
       "     sales 2010     sales2011    sales 2011\n",
       "0  2.288886e+09  2.448200e+09  2.000133e+09"
      ]
     },
     "execution_count": 35,
     "metadata": {},
     "output_type": "execute_result"
    }
   ],
   "source": [
    "pd.DataFrame([{'sales 2010':sales_2010,'sales2011':sales_2011,'sales 2011':sales_2012}])"
   ]
  },
  {
   "cell_type": "code",
   "execution_count": 36,
   "id": "123f79e6-7204-4371-b97e-bd34c6c02e1e",
   "metadata": {},
   "outputs": [
    {
     "data": {
      "image/png": "[encoded data removed]",
      "text/plain": [
       "<Figure size 432x288 with 1 Axes>"
      ]
     },
     "metadata": {
      "needs_background": "light"
     },
     "output_type": "display_data"
    }
   ],
   "source": [
    "import matplotlib.pyplot as plt\n",
    "sales_values = [sales_2010, sales_2011, sales_2012]\n",
    "\n",
    "# Creating a list of years\n",
    "years = ['2010', '2011', '2012']\n",
    "\n",
    "# Plotting the sales data\n",
    "plt.bar(years, sales_values, color=['blue', 'orange', 'green'])\n",
    "plt.xlabel('Year')\n",
    "plt.ylabel('Sales')\n",
    "plt.title('Sales for Different Years')\n",
    "\n",
    "plt.show()\n",
    "\n",
    "# year 2011 has the highest weekly sales\n"
   ]
  },
  {
   "cell_type": "code",
   "execution_count": 37,
   "id": "53613e2f-1d2a-4e5e-8e7b-6fb921f80b65",
   "metadata": {},
   "outputs": [],
   "source": [
    "import seaborn as sns\n",
    "\n"
   ]
  },
  {
   "cell_type": "code",
   "execution_count": 38,
   "id": "15d68faf-83ec-4f90-8d03-4382d7990e34",
   "metadata": {},
   "outputs": [
    {
     "data": {
      "image/png": "[encoded data removed]",
      "text/plain": [
       "<Figure size 1008x504 with 1 Axes>"
      ]
     },
     "metadata": {
      "needs_background": "light"
     },
     "output_type": "display_data"
    }
   ],
   "source": [
    "#Sales for year 2011\n",
    "plt.figure(figsize=(14,7))\n",
    "graph_2010 = sns.barplot(data=df, x=df[df.Year==2010]['Month'], y=df[df.Year==2010]['Weekly_Sales'])\n",
    "plt.show()\n",
    "#December month has highest weekly sales"
   ]
  },
  {
   "cell_type": "code",
   "execution_count": 39,
   "id": "b9d9e425-4204-489a-8eb3-f3c5097fe47f",
   "metadata": {},
   "outputs": [
    {
     "data": {
      "image/png": "[encoded data removed]",
      "text/plain": [
       "<Figure size 1008x504 with 1 Axes>"
      ]
     },
     "metadata": {
      "needs_background": "light"
     },
     "output_type": "display_data"
    }
   ],
   "source": [
    "df_2011 = df[df['Year'] == 2011]\n",
    "\n",
    "\n",
    "plt.figure(figsize=(14, 7))\n",
    "sns.barplot(data=df_2011, x='Month', y='Weekly_Sales')\n",
    "plt.show()"
   ]
  },
  {
   "cell_type": "code",
   "execution_count": 40,
   "id": "04cd589d-5374-4bd2-bce3-39971901fa40",
   "metadata": {},
   "outputs": [
    {
     "data": {
      "image/png": "[encoded data removed]",
      "text/plain": [
       "<Figure size 1008x504 with 1 Axes>"
      ]
     },
     "metadata": {
      "needs_background": "light"
     },
     "output_type": "display_data"
    }
   ],
   "source": [
    "df_2011 = df[df['Year'] == 2012]\n",
    "\n",
    "\n",
    "plt.figure(figsize=(14, 7))\n",
    "sns.barplot(data=df_2011, x='Month', y='Weekly_Sales')\n",
    "plt.show()"
   ]
  },
  {
   "cell_type": "code",
   "execution_count": 41,
   "id": "07c86c9f-6c70-4bfe-89bf-3b839bde4d07",
   "metadata": {},
   "outputs": [
    {
     "data": {
      "image/png": "[encoded data removed]",
      "text/plain": [
       "<Figure size 960x1280 with 4 Axes>"
      ]
     },
     "metadata": {
      "needs_background": "light"
     },
     "output_type": "display_data"
    }
   ],
   "source": [
    "#outliers in the dataset\n",
    "fig, axis = plt.subplots(4, figsize=(12,16), dpi=80)\n",
    "x = df[['Temperature','Fuel_Price','CPI','Unemployment']]\n",
    "\n",
    "for i, column in enumerate(x):\n",
    "    sns.boxplot(df[column], ax=axis[i])\n",
    "\n",
    "##outliers in the dataset\n"
   ]
  },
  {
   "cell_type": "code",
   "execution_count": 42,
   "id": "ad1a5e66-0f87-43eb-9a7f-f8ae5d96ebf4",
   "metadata": {},
   "outputs": [],
   "source": [
    "df=df[df['Unemployment']<=11]\n",
    "df=df[df['Unemployment']>=5]\n",
    "df=df[df['Temperature']>=5]\n",
    "#After removing the outliers"
   ]
  },
  {
   "cell_type": "code",
   "execution_count": 43,
   "id": "655b0878-6366-4c05-abf7-1b29c14ca2b9",
   "metadata": {},
   "outputs": [
    {
     "data": {
      "image/png": "[encoded data removed]",
      "text/plain": [
       "<Figure size 960x1280 with 4 Axes>"
      ]
     },
     "metadata": {
      "needs_background": "light"
     },
     "output_type": "display_data"
    }
   ],
   "source": [
    "fig, axis = plt.subplots(4, figsize=(12,16), dpi=80)\n",
    "x = df[['Temperature','Fuel_Price','CPI','Unemployment']]\n",
    "\n",
    "for i, column in enumerate(x):\n",
    "    sns.boxplot(df[column], ax=axis[i])\n"
   ]
  },
  {
   "cell_type": "code",
   "execution_count": 44,
   "id": "8de5c252-825f-4275-a427-d90655fb3436",
   "metadata": {},
   "outputs": [],
   "source": [
    "#building the model\n",
    "\n",
    "x=df[['Store', 'Fuel_Price', 'CPI', 'Unemployment', 'Day', 'Month', 'Year']]\n",
    "y=df['Weekly_Sales']"
   ]
  },
  {
   "cell_type": "code",
   "execution_count": 45,
   "id": "786a172f-1265-407b-a10b-f517867885ed",
   "metadata": {},
   "outputs": [],
   "source": [
    "from sklearn.model_selection import train_test_split\n",
    "x_train, x_test, y_train, y_test = train_test_split(x, y, test_size=0.2)"
   ]
  },
  {
   "cell_type": "code",
   "execution_count": 46,
   "id": "699c1ba2-9543-427e-8229-29f0de9a698c",
   "metadata": {},
   "outputs": [],
   "source": [
    "#Testing which algorithm is good\n"
   ]
  },
  {
   "cell_type": "code",
   "execution_count": 47,
   "id": "356231d8-5959-4ffc-96c9-6b2a2829d326",
   "metadata": {},
   "outputs": [],
   "source": [
    "#Linear Regression\n",
    "from sklearn.preprocessing import StandardScaler\n",
    "sc = StandardScaler()\n",
    "x_train = sc.fit_transform(x_train)\n",
    "x_test = sc.fit_transform(x_test)"
   ]
  },
  {
   "cell_type": "code",
   "execution_count": 48,
   "id": "8da21a2d-651d-4e57-9365-8dde8df0c0aa",
   "metadata": {},
   "outputs": [],
   "source": [
    "from sklearn.linear_model import LinearRegression\n",
    "from sklearn import metrics\n",
    "from sklearn.metrics import r2_score"
   ]
  },
  {
   "cell_type": "code",
   "execution_count": 49,
   "id": "c8b5da76-7d9e-45c9-be1d-12fbd601949b",
   "metadata": {},
   "outputs": [
    {
     "name": "stdout",
     "output_type": "stream",
     "text": [
      "Train Accuracy 12.416 %\n",
      "Test Accuracy 14.329 %\n",
      "Mean Squared Error 284863817270.409\n"
     ]
    }
   ],
   "source": [
    "lr=LinearRegression()\n",
    "lr.fit(x_train,y_train)\n",
    "lr_pred=lr.predict(x_test)\n",
    "print(\"Train Accuracy\",lr.score(x_train,y_train).round(5)*100,\"%\")\n",
    "print(\"Test Accuracy\",r2_score(y_test,lr_pred).round(5)*100,\"%\")\n",
    "print(\"Mean Squared Error\",metrics.mean_squared_error(y_test,lr_pred).round(3))"
   ]
  },
  {
   "cell_type": "code",
   "execution_count": 50,
   "id": "b870ad03-1db0-427b-8786-0662c55e9dce",
   "metadata": {},
   "outputs": [
    {
     "name": "stdout",
     "output_type": "stream",
     "text": [
      "Train Accuracy 99.357 %\n",
      "Test Accuracy 92.609 %\n",
      "Mean Squared Error 24577435693.261\n"
     ]
    }
   ],
   "source": [
    "#Random Forest\n",
    "from sklearn.ensemble import RandomForestRegressor\n",
    "rfal=RandomForestRegressor()\n",
    "rfal.fit(x_train,y_train)\n",
    "rf_pred=rfal.predict(x_test)\n",
    "print(\"Train Accuracy\",rfal.score(x_train,y_train).round(5)*100,\"%\")\n",
    "print(\"Test Accuracy\",r2_score(y_test,rf_pred).round(5)*100,\"%\")\n",
    "print(\"Mean Squared Error\",metrics.mean_squared_error(y_test,rf_pred).round(3))"
   ]
  },
  {
   "cell_type": "code",
   "execution_count": 51,
   "id": "113a1890-956d-4cf8-8285-d0a51fc2171c",
   "metadata": {},
   "outputs": [
    {
     "name": "stdout",
     "output_type": "stream",
     "text": [
      "Train Accuracy 12.416 %\n",
      "Test Accuracy 14.324 %\n",
      "Mean Squared Error 284882997287.132\n"
     ]
    }
   ],
   "source": [
    "#RidgeCV\n",
    "from sklearn.linear_model import RidgeCV\n",
    "rd=RidgeCV()\n",
    "rd.fit(x_train,y_train)\n",
    "rd_pred=rd.predict(x_test)\n",
    "print(\"Train Accuracy\",rd.score(x_train,y_train).round(5)*100,\"%\")\n",
    "print(\"Test Accuracy\",r2_score(y_test,rd_pred).round(5)*100,\"%\")\n",
    "print(\"Mean Squared Error\",metrics.mean_squared_error(y_test,rd_pred).round(3))"
   ]
  },
  {
   "cell_type": "code",
   "execution_count": 52,
   "id": "ae7a9cd9-555e-438a-9e8d-0082cb14b134",
   "metadata": {},
   "outputs": [],
   "source": [
    "#Cross Validatkon"
   ]
  },
  {
   "cell_type": "code",
   "execution_count": 53,
   "id": "0c307b84-90d1-4644-bc48-20eba6c0f72f",
   "metadata": {},
   "outputs": [],
   "source": [
    "from sklearn.model_selection import cross_val_score"
   ]
  },
  {
   "cell_type": "code",
   "execution_count": 54,
   "id": "b21c53bb-e17e-45bd-9714-3750ab85d1e4",
   "metadata": {},
   "outputs": [
    {
     "name": "stdout",
     "output_type": "stream",
     "text": [
      "[0.13083929 0.12316283 0.12085679 0.0775085  0.17947403 0.09470198\n",
      " 0.10206283 0.16414818 0.11563849 0.08514938]\n",
      "Mean Score: 11.93542281811304 %\n"
     ]
    }
   ],
   "source": [
    "#Linear Regression\n",
    "lr_scores = cross_val_score(lr, x_train,y_train, cv=10, scoring='r2')\n",
    "print(lr_scores)\n",
    "print(\"Mean Score:\", lr_scores.mean()*100,'%')"
   ]
  },
  {
   "cell_type": "code",
   "execution_count": 55,
   "id": "78168275-fd90-4007-96cf-bc1c48aae0a4",
   "metadata": {},
   "outputs": [
    {
     "name": "stdout",
     "output_type": "stream",
     "text": [
      "[0.95276397 0.9470132  0.95218594 0.9410428  0.9508974  0.9494209\n",
      " 0.95463206 0.96691822 0.95136631 0.95471509]\n",
      "Mean Score: 95.20955874136382 %\n"
     ]
    }
   ],
   "source": [
    "#Random Forest\n",
    "rf_score=cross_val_score(rfal, x_train,y_train, cv=10, scoring='r2')\n",
    "print(rf_score)\n",
    "print(\"Mean Score:\", rf_score.mean()*100,'%')"
   ]
  },
  {
   "cell_type": "code",
   "execution_count": 56,
   "id": "6714bc24-b3ec-480c-aefe-68f887b55ed2",
   "metadata": {},
   "outputs": [
    {
     "name": "stdout",
     "output_type": "stream",
     "text": [
      "[0.13083042 0.12312217 0.12085641 0.07767534 0.17933452 0.09476475\n",
      " 0.1021415  0.16398219 0.11562841 0.08528928]\n",
      "Mean Score: 11.936249823373016 %\n"
     ]
    }
   ],
   "source": [
    "#RidgeCV\n",
    "rd_score=cross_val_score(rd, x_train,y_train, cv=10, scoring='r2')\n",
    "print(rd_score)\n",
    "print(\"Mean Score:\", rd_score.mean()*100,'%')"
   ]
  },
  {
   "cell_type": "code",
   "execution_count": 57,
   "id": "da5fbc44-15a1-494a-b909-d5369af3037c",
   "metadata": {},
   "outputs": [],
   "source": [
    "#Random Forest is the good algorithm and approx 94% accuracy and it can be considerd as the good model for weekly sales"
   ]
  },
  {
   "cell_type": "code",
   "execution_count": null,
   "id": "9c5640c3-e6ea-4198-9466-a9f6ef882b1b",
   "metadata": {},
   "outputs": [],
   "source": []
  }
 ],
 "metadata": {
  "kernelspec": {
   "display_name": "Python 3 [3.10]",
   "language": "python",
   "name": "python3"
  },
  "language_info": {
   "codemirror_mode": {
    "name": "ipython",
    "version": 3
   },
   "file_extension": ".py",
   "mimetype": "text/x-python",
   "name": "python",
   "nbconvert_exporter": "python",
   "pygments_lexer": "ipython3",
   "version": "3.10.2"
  }
 },
 "nbformat": 4,
 "nbformat_minor": 5
}
